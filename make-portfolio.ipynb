{
 "cells": [
  {
   "cell_type": "code",
   "execution_count": 1,
   "metadata": {},
   "outputs": [],
   "source": [
    "import numpy as np\n",
    "import pandas as pd\n",
    "import os"
   ]
  },
  {
   "attachments": {},
   "cell_type": "markdown",
   "metadata": {},
   "source": [
    "# 데이터 불러오기"
   ]
  },
  {
   "cell_type": "code",
   "execution_count": 2,
   "metadata": {},
   "outputs": [],
   "source": [
    "def load_data(file_path: str) -> pd.DataFrame:\n",
    "    return pd.read_csv(file_path, encoding='euckr')"
   ]
  },
  {
   "cell_type": "code",
   "execution_count": 3,
   "metadata": {},
   "outputs": [
    {
     "data": {
      "text/html": [
       "<div>\n",
       "<style scoped>\n",
       "    .dataframe tbody tr th:only-of-type {\n",
       "        vertical-align: middle;\n",
       "    }\n",
       "\n",
       "    .dataframe tbody tr th {\n",
       "        vertical-align: top;\n",
       "    }\n",
       "\n",
       "    .dataframe thead th {\n",
       "        text-align: right;\n",
       "    }\n",
       "</style>\n",
       "<table border=\"1\" class=\"dataframe\">\n",
       "  <thead>\n",
       "    <tr style=\"text-align: right;\">\n",
       "      <th></th>\n",
       "      <th>일자</th>\n",
       "      <th>종가</th>\n",
       "      <th>대비</th>\n",
       "      <th>등락률</th>\n",
       "      <th>시가</th>\n",
       "      <th>고가</th>\n",
       "      <th>저가</th>\n",
       "      <th>거래량</th>\n",
       "      <th>거래대금</th>\n",
       "      <th>시가총액</th>\n",
       "      <th>상장주식수</th>\n",
       "    </tr>\n",
       "  </thead>\n",
       "  <tbody>\n",
       "    <tr>\n",
       "      <th>0</th>\n",
       "      <td>2023/05/09</td>\n",
       "      <td>555000</td>\n",
       "      <td>-3000</td>\n",
       "      <td>-0.54</td>\n",
       "      <td>558000</td>\n",
       "      <td>567000</td>\n",
       "      <td>550000</td>\n",
       "      <td>101803</td>\n",
       "      <td>56752966000</td>\n",
       "      <td>129870000000000</td>\n",
       "      <td>234000000</td>\n",
       "    </tr>\n",
       "    <tr>\n",
       "      <th>1</th>\n",
       "      <td>2023/05/08</td>\n",
       "      <td>558000</td>\n",
       "      <td>-6000</td>\n",
       "      <td>-1.06</td>\n",
       "      <td>565000</td>\n",
       "      <td>572000</td>\n",
       "      <td>558000</td>\n",
       "      <td>202092</td>\n",
       "      <td>114162505000</td>\n",
       "      <td>130572000000000</td>\n",
       "      <td>234000000</td>\n",
       "    </tr>\n",
       "    <tr>\n",
       "      <th>2</th>\n",
       "      <td>2023/05/04</td>\n",
       "      <td>564000</td>\n",
       "      <td>-3000</td>\n",
       "      <td>-0.53</td>\n",
       "      <td>563000</td>\n",
       "      <td>571000</td>\n",
       "      <td>560000</td>\n",
       "      <td>244181</td>\n",
       "      <td>137592002000</td>\n",
       "      <td>131976000000000</td>\n",
       "      <td>234000000</td>\n",
       "    </tr>\n",
       "    <tr>\n",
       "      <th>3</th>\n",
       "      <td>2023/05/03</td>\n",
       "      <td>567000</td>\n",
       "      <td>-24000</td>\n",
       "      <td>-4.06</td>\n",
       "      <td>587000</td>\n",
       "      <td>587000</td>\n",
       "      <td>566000</td>\n",
       "      <td>243943</td>\n",
       "      <td>139845914000</td>\n",
       "      <td>132678000000000</td>\n",
       "      <td>234000000</td>\n",
       "    </tr>\n",
       "    <tr>\n",
       "      <th>4</th>\n",
       "      <td>2023/05/02</td>\n",
       "      <td>591000</td>\n",
       "      <td>10000</td>\n",
       "      <td>1.72</td>\n",
       "      <td>580000</td>\n",
       "      <td>592000</td>\n",
       "      <td>579000</td>\n",
       "      <td>273527</td>\n",
       "      <td>160973712000</td>\n",
       "      <td>138294000000000</td>\n",
       "      <td>234000000</td>\n",
       "    </tr>\n",
       "    <tr>\n",
       "      <th>...</th>\n",
       "      <td>...</td>\n",
       "      <td>...</td>\n",
       "      <td>...</td>\n",
       "      <td>...</td>\n",
       "      <td>...</td>\n",
       "      <td>...</td>\n",
       "      <td>...</td>\n",
       "      <td>...</td>\n",
       "      <td>...</td>\n",
       "      <td>...</td>\n",
       "      <td>...</td>\n",
       "    </tr>\n",
       "    <tr>\n",
       "      <th>244</th>\n",
       "      <td>2022/05/13</td>\n",
       "      <td>400500</td>\n",
       "      <td>12500</td>\n",
       "      <td>3.22</td>\n",
       "      <td>390500</td>\n",
       "      <td>401500</td>\n",
       "      <td>390500</td>\n",
       "      <td>228636</td>\n",
       "      <td>90861595500</td>\n",
       "      <td>93717000000000</td>\n",
       "      <td>234000000</td>\n",
       "    </tr>\n",
       "    <tr>\n",
       "      <th>245</th>\n",
       "      <td>2022/05/12</td>\n",
       "      <td>388000</td>\n",
       "      <td>-3500</td>\n",
       "      <td>-0.89</td>\n",
       "      <td>390000</td>\n",
       "      <td>395500</td>\n",
       "      <td>386000</td>\n",
       "      <td>251570</td>\n",
       "      <td>98271466500</td>\n",
       "      <td>90792000000000</td>\n",
       "      <td>234000000</td>\n",
       "    </tr>\n",
       "    <tr>\n",
       "      <th>246</th>\n",
       "      <td>2022/05/11</td>\n",
       "      <td>391500</td>\n",
       "      <td>-2000</td>\n",
       "      <td>-0.51</td>\n",
       "      <td>394000</td>\n",
       "      <td>398000</td>\n",
       "      <td>391500</td>\n",
       "      <td>239355</td>\n",
       "      <td>94448041000</td>\n",
       "      <td>91611000000000</td>\n",
       "      <td>234000000</td>\n",
       "    </tr>\n",
       "    <tr>\n",
       "      <th>247</th>\n",
       "      <td>2022/05/10</td>\n",
       "      <td>393500</td>\n",
       "      <td>-500</td>\n",
       "      <td>-0.13</td>\n",
       "      <td>387500</td>\n",
       "      <td>398500</td>\n",
       "      <td>382000</td>\n",
       "      <td>407928</td>\n",
       "      <td>159437583000</td>\n",
       "      <td>92079000000000</td>\n",
       "      <td>234000000</td>\n",
       "    </tr>\n",
       "    <tr>\n",
       "      <th>248</th>\n",
       "      <td>2022/05/09</td>\n",
       "      <td>394000</td>\n",
       "      <td>-7500</td>\n",
       "      <td>-1.87</td>\n",
       "      <td>397000</td>\n",
       "      <td>400000</td>\n",
       "      <td>390000</td>\n",
       "      <td>289113</td>\n",
       "      <td>114076485500</td>\n",
       "      <td>92196000000000</td>\n",
       "      <td>234000000</td>\n",
       "    </tr>\n",
       "  </tbody>\n",
       "</table>\n",
       "<p>249 rows × 11 columns</p>\n",
       "</div>"
      ],
      "text/plain": [
       "             일자      종가     대비   등락률      시가      고가      저가     거래량   \n",
       "0    2023/05/09  555000  -3000 -0.54  558000  567000  550000  101803  \\\n",
       "1    2023/05/08  558000  -6000 -1.06  565000  572000  558000  202092   \n",
       "2    2023/05/04  564000  -3000 -0.53  563000  571000  560000  244181   \n",
       "3    2023/05/03  567000 -24000 -4.06  587000  587000  566000  243943   \n",
       "4    2023/05/02  591000  10000  1.72  580000  592000  579000  273527   \n",
       "..          ...     ...    ...   ...     ...     ...     ...     ...   \n",
       "244  2022/05/13  400500  12500  3.22  390500  401500  390500  228636   \n",
       "245  2022/05/12  388000  -3500 -0.89  390000  395500  386000  251570   \n",
       "246  2022/05/11  391500  -2000 -0.51  394000  398000  391500  239355   \n",
       "247  2022/05/10  393500   -500 -0.13  387500  398500  382000  407928   \n",
       "248  2022/05/09  394000  -7500 -1.87  397000  400000  390000  289113   \n",
       "\n",
       "             거래대금             시가총액      상장주식수  \n",
       "0     56752966000  129870000000000  234000000  \n",
       "1    114162505000  130572000000000  234000000  \n",
       "2    137592002000  131976000000000  234000000  \n",
       "3    139845914000  132678000000000  234000000  \n",
       "4    160973712000  138294000000000  234000000  \n",
       "..            ...              ...        ...  \n",
       "244   90861595500   93717000000000  234000000  \n",
       "245   98271466500   90792000000000  234000000  \n",
       "246   94448041000   91611000000000  234000000  \n",
       "247  159437583000   92079000000000  234000000  \n",
       "248  114076485500   92196000000000  234000000  \n",
       "\n",
       "[249 rows x 11 columns]"
      ]
     },
     "execution_count": 3,
     "metadata": {},
     "output_type": "execute_result"
    }
   ],
   "source": [
    "data_path = 'data'\n",
    "data = [load_data(os.path.join(data_path, filename)) for filename in os.listdir(data_path)]\n",
    "data[0]"
   ]
  },
  {
   "attachments": {},
   "cell_type": "markdown",
   "metadata": {},
   "source": [
    "# 종목별 기대수익률 및 공분산 행렬 계산"
   ]
  },
  {
   "cell_type": "code",
   "execution_count": 4,
   "metadata": {},
   "outputs": [
    {
     "data": {
      "text/html": [
       "<div>\n",
       "<style scoped>\n",
       "    .dataframe tbody tr th:only-of-type {\n",
       "        vertical-align: middle;\n",
       "    }\n",
       "\n",
       "    .dataframe tbody tr th {\n",
       "        vertical-align: top;\n",
       "    }\n",
       "\n",
       "    .dataframe thead th {\n",
       "        text-align: right;\n",
       "    }\n",
       "</style>\n",
       "<table border=\"1\" class=\"dataframe\">\n",
       "  <thead>\n",
       "    <tr style=\"text-align: right;\">\n",
       "      <th></th>\n",
       "      <th>LGES</th>\n",
       "      <th>POSCO</th>\n",
       "      <th>Kia</th>\n",
       "      <th>Samsung Bio</th>\n",
       "    </tr>\n",
       "  </thead>\n",
       "  <tbody>\n",
       "    <tr>\n",
       "      <th>0</th>\n",
       "      <td>-0.54</td>\n",
       "      <td>-0.41</td>\n",
       "      <td>-0.80</td>\n",
       "      <td>0.00</td>\n",
       "    </tr>\n",
       "    <tr>\n",
       "      <th>1</th>\n",
       "      <td>-1.06</td>\n",
       "      <td>-3.03</td>\n",
       "      <td>1.40</td>\n",
       "      <td>-1.13</td>\n",
       "    </tr>\n",
       "    <tr>\n",
       "      <th>2</th>\n",
       "      <td>-0.53</td>\n",
       "      <td>-0.26</td>\n",
       "      <td>-0.69</td>\n",
       "      <td>2.84</td>\n",
       "    </tr>\n",
       "    <tr>\n",
       "      <th>3</th>\n",
       "      <td>-4.06</td>\n",
       "      <td>-0.52</td>\n",
       "      <td>-0.46</td>\n",
       "      <td>1.04</td>\n",
       "    </tr>\n",
       "    <tr>\n",
       "      <th>4</th>\n",
       "      <td>1.72</td>\n",
       "      <td>1.33</td>\n",
       "      <td>2.84</td>\n",
       "      <td>-1.79</td>\n",
       "    </tr>\n",
       "    <tr>\n",
       "      <th>...</th>\n",
       "      <td>...</td>\n",
       "      <td>...</td>\n",
       "      <td>...</td>\n",
       "      <td>...</td>\n",
       "    </tr>\n",
       "    <tr>\n",
       "      <th>244</th>\n",
       "      <td>3.22</td>\n",
       "      <td>2.75</td>\n",
       "      <td>0.00</td>\n",
       "      <td>-0.38</td>\n",
       "    </tr>\n",
       "    <tr>\n",
       "      <th>245</th>\n",
       "      <td>-0.89</td>\n",
       "      <td>-0.55</td>\n",
       "      <td>0.23</td>\n",
       "      <td>-0.63</td>\n",
       "    </tr>\n",
       "    <tr>\n",
       "      <th>246</th>\n",
       "      <td>-0.51</td>\n",
       "      <td>-0.54</td>\n",
       "      <td>2.38</td>\n",
       "      <td>-0.63</td>\n",
       "    </tr>\n",
       "    <tr>\n",
       "      <th>247</th>\n",
       "      <td>-0.13</td>\n",
       "      <td>-1.78</td>\n",
       "      <td>1.82</td>\n",
       "      <td>0.00</td>\n",
       "    </tr>\n",
       "    <tr>\n",
       "      <th>248</th>\n",
       "      <td>-1.87</td>\n",
       "      <td>-1.75</td>\n",
       "      <td>-1.55</td>\n",
       "      <td>0.50</td>\n",
       "    </tr>\n",
       "  </tbody>\n",
       "</table>\n",
       "<p>249 rows × 4 columns</p>\n",
       "</div>"
      ],
      "text/plain": [
       "     LGES  POSCO   Kia  Samsung Bio\n",
       "0   -0.54  -0.41 -0.80         0.00\n",
       "1   -1.06  -3.03  1.40        -1.13\n",
       "2   -0.53  -0.26 -0.69         2.84\n",
       "3   -4.06  -0.52 -0.46         1.04\n",
       "4    1.72   1.33  2.84        -1.79\n",
       "..    ...    ...   ...          ...\n",
       "244  3.22   2.75  0.00        -0.38\n",
       "245 -0.89  -0.55  0.23        -0.63\n",
       "246 -0.51  -0.54  2.38        -0.63\n",
       "247 -0.13  -1.78  1.82         0.00\n",
       "248 -1.87  -1.75 -1.55         0.50\n",
       "\n",
       "[249 rows x 4 columns]"
      ]
     },
     "execution_count": 4,
     "metadata": {},
     "output_type": "execute_result"
    }
   ],
   "source": [
    "changes = pd.DataFrame([d['등락률'] for d in data]).T\n",
    "changes.columns = ['LGES', 'POSCO', 'Kia', 'Samsung Bio']\n",
    "changes"
   ]
  },
  {
   "cell_type": "code",
   "execution_count": 5,
   "metadata": {},
   "outputs": [],
   "source": [
    "# 전체 기간 환산\n",
    "days = len(changes)"
   ]
  },
  {
   "cell_type": "code",
   "execution_count": 6,
   "metadata": {},
   "outputs": [
    {
     "data": {
      "text/plain": [
       "LGES           38.40\n",
       "POSCO          31.08\n",
       "Kia             7.10\n",
       "Samsung Bio     1.76\n",
       "dtype: float64"
      ]
     },
     "execution_count": 6,
     "metadata": {},
     "output_type": "execute_result"
    }
   ],
   "source": [
    "# 등락률은 % 단위\n",
    "returns = changes.mean()\n",
    "annual_returns = returns * days\n",
    "annual_returns"
   ]
  },
  {
   "cell_type": "code",
   "execution_count": 7,
   "metadata": {},
   "outputs": [
    {
     "data": {
      "text/plain": [
       "LGES           1203.360445\n",
       "POSCO          1304.347761\n",
       "Kia             827.358877\n",
       "Samsung Bio     495.339877\n",
       "dtype: float64"
      ]
     },
     "execution_count": 7,
     "metadata": {},
     "output_type": "execute_result"
    }
   ],
   "source": [
    "variance = changes.var()\n",
    "annual_variance = variance * days\n",
    "annual_variance"
   ]
  },
  {
   "cell_type": "code",
   "execution_count": 8,
   "metadata": {},
   "outputs": [
    {
     "data": {
      "text/html": [
       "<div>\n",
       "<style scoped>\n",
       "    .dataframe tbody tr th:only-of-type {\n",
       "        vertical-align: middle;\n",
       "    }\n",
       "\n",
       "    .dataframe tbody tr th {\n",
       "        vertical-align: top;\n",
       "    }\n",
       "\n",
       "    .dataframe thead th {\n",
       "        text-align: right;\n",
       "    }\n",
       "</style>\n",
       "<table border=\"1\" class=\"dataframe\">\n",
       "  <thead>\n",
       "    <tr style=\"text-align: right;\">\n",
       "      <th></th>\n",
       "      <th>LGES</th>\n",
       "      <th>POSCO</th>\n",
       "      <th>Kia</th>\n",
       "      <th>Samsung Bio</th>\n",
       "    </tr>\n",
       "  </thead>\n",
       "  <tbody>\n",
       "    <tr>\n",
       "      <th>LGES</th>\n",
       "      <td>1203.360445</td>\n",
       "      <td>351.934431</td>\n",
       "      <td>267.815725</td>\n",
       "      <td>153.714807</td>\n",
       "    </tr>\n",
       "    <tr>\n",
       "      <th>POSCO</th>\n",
       "      <td>351.934431</td>\n",
       "      <td>1304.347761</td>\n",
       "      <td>330.020567</td>\n",
       "      <td>82.550346</td>\n",
       "    </tr>\n",
       "    <tr>\n",
       "      <th>Kia</th>\n",
       "      <td>267.815725</td>\n",
       "      <td>330.020567</td>\n",
       "      <td>827.358877</td>\n",
       "      <td>97.941254</td>\n",
       "    </tr>\n",
       "    <tr>\n",
       "      <th>Samsung Bio</th>\n",
       "      <td>153.714807</td>\n",
       "      <td>82.550346</td>\n",
       "      <td>97.941254</td>\n",
       "      <td>495.339877</td>\n",
       "    </tr>\n",
       "  </tbody>\n",
       "</table>\n",
       "</div>"
      ],
      "text/plain": [
       "                    LGES        POSCO         Kia  Samsung Bio\n",
       "LGES         1203.360445   351.934431  267.815725   153.714807\n",
       "POSCO         351.934431  1304.347761  330.020567    82.550346\n",
       "Kia           267.815725   330.020567  827.358877    97.941254\n",
       "Samsung Bio   153.714807    82.550346   97.941254   495.339877"
      ]
     },
     "execution_count": 8,
     "metadata": {},
     "output_type": "execute_result"
    }
   ],
   "source": [
    "cov_matrix = changes.cov()\n",
    "annual_cov = cov_matrix * days\n",
    "annual_cov"
   ]
  },
  {
   "attachments": {},
   "cell_type": "markdown",
   "metadata": {},
   "source": [
    "# 초과수익률 기준: 연 5%"
   ]
  },
  {
   "cell_type": "code",
   "execution_count": 9,
   "metadata": {},
   "outputs": [],
   "source": [
    "# 등락률의 단위가 %이므로 초과수익률도 % 단위로 선언\n",
    "C = 5"
   ]
  },
  {
   "attachments": {},
   "cell_type": "markdown",
   "metadata": {},
   "source": [
    "# 공분산행렬의 역행렬 계산"
   ]
  },
  {
   "cell_type": "code",
   "execution_count": 10,
   "metadata": {},
   "outputs": [
    {
     "data": {
      "text/plain": [
       "array([[ 9.62472497e-04, -1.92807176e-04, -2.07958705e-04,\n",
       "        -2.25425499e-04],\n",
       "       [-1.92807176e-04,  8.94203121e-04, -2.90513791e-04,\n",
       "        -3.17482494e-05],\n",
       "       [-2.07958705e-04, -2.90513791e-04,  1.41153099e-03,\n",
       "        -1.66146059e-04],\n",
       "       [-2.25425499e-04, -3.17482494e-05, -1.66146059e-04,\n",
       "         2.12691259e-03]])"
      ]
     },
     "execution_count": 10,
     "metadata": {},
     "output_type": "execute_result"
    }
   ],
   "source": [
    "annual_cov_inv = np.linalg.inv(annual_cov)\n",
    "annual_cov_inv"
   ]
  },
  {
   "attachments": {},
   "cell_type": "markdown",
   "metadata": {},
   "source": [
    "# 최적 투자 비율 계산"
   ]
  },
  {
   "cell_type": "code",
   "execution_count": 11,
   "metadata": {},
   "outputs": [
    {
     "data": {
      "text/plain": [
       "array([ 0.02741184,  0.01637384, -0.01101989, -0.01559731])"
      ]
     },
     "execution_count": 11,
     "metadata": {},
     "output_type": "execute_result"
    }
   ],
   "source": [
    "z = np.matmul(annual_cov_inv, annual_returns-C)\n",
    "z"
   ]
  },
  {
   "cell_type": "code",
   "execution_count": 12,
   "metadata": {},
   "outputs": [
    {
     "data": {
      "text/plain": [
       "[1.5966375768835812,\n",
       " 0.9537155245353315,\n",
       " -0.6418677726144588,\n",
       " -0.9084853288044541]"
      ]
     },
     "execution_count": 12,
     "metadata": {},
     "output_type": "execute_result"
    }
   ],
   "source": [
    "sum_z = z.sum()\n",
    "w = [zi/sum_z for zi in z]\n",
    "w"
   ]
  },
  {
   "attachments": {},
   "cell_type": "markdown",
   "metadata": {},
   "source": [
    "# 효율적 포트폴리오의 투자 비율\n",
    "* LG에너지솔루션: 159%\n",
    "* POSCO홀딩스: 95%\n",
    "* 기아: -64%\n",
    "* 삼성바이오로직스: -90%"
   ]
  },
  {
   "attachments": {},
   "cell_type": "markdown",
   "metadata": {},
   "source": [
    "# 투자 비율별 기대수익률, 위험"
   ]
  },
  {
   "cell_type": "code",
   "execution_count": 13,
   "metadata": {},
   "outputs": [],
   "source": [
    "weight_returns = []\n",
    "weight_risk = []"
   ]
  },
  {
   "cell_type": "code",
   "execution_count": 14,
   "metadata": {},
   "outputs": [],
   "source": [
    "def return_risk(weight: np.array):\n",
    "    cur_returns = np.dot(weight, annual_returns)\n",
    "    cur_risk = np.sqrt(np.dot(weight.T, np.dot(annual_cov, weight)))\n",
    "    return cur_returns, cur_risk"
   ]
  },
  {
   "cell_type": "code",
   "execution_count": 15,
   "metadata": {},
   "outputs": [],
   "source": [
    "# random weights\n",
    "import random\n",
    "stock_num = len(data)\n",
    "for _ in range(100_000):\n",
    "    random_numbers = np.random.random(stock_num)\n",
    "    weight = random_numbers / random_numbers.sum()\n",
    "    w_return, w_risk = return_risk(weight)\n",
    "    weight_returns.append(w_return)\n",
    "    weight_risk.append(w_risk)"
   ]
  },
  {
   "cell_type": "code",
   "execution_count": 16,
   "metadata": {},
   "outputs": [],
   "source": [
    "weight_returns = np.array(weight_returns)\n",
    "weight_risk = np.array(weight_risk)"
   ]
  },
  {
   "cell_type": "code",
   "execution_count": 17,
   "metadata": {},
   "outputs": [
    {
     "name": "stdout",
     "output_type": "stream",
     "text": [
      "84.79616609062914 68.17499688668866\n"
     ]
    }
   ],
   "source": [
    "best_return, best_risk = return_risk(np.array(w))\n",
    "print(best_return, best_risk)"
   ]
  },
  {
   "attachments": {},
   "cell_type": "markdown",
   "metadata": {},
   "source": [
    "# 효율적 결합선 그리기"
   ]
  },
  {
   "cell_type": "code",
   "execution_count": 18,
   "metadata": {},
   "outputs": [],
   "source": [
    "import matplotlib.pyplot as plt"
   ]
  },
  {
   "cell_type": "code",
   "execution_count": 19,
   "metadata": {},
   "outputs": [
    {
     "data": {
      "image/png": "[encoded data removed]",
      "text/plain": [
       "<Figure size 640x480 with 1 Axes>"
      ]
     },
     "metadata": {},
     "output_type": "display_data"
    }
   ],
   "source": [
    "plt.scatter(x=weight_risk, y=weight_returns, c=weight_returns/weight_risk)\n",
    "plt.scatter(x=best_risk, y=best_return, marker='X')\n",
    "\n",
    "plt.xlabel('Expected risk')\n",
    "plt.ylabel('Expected return')\n",
    "plt.show()"
   ]
  }
 ],
 "metadata": {
  "kernelspec": {
   "display_name": ".venv",
   "language": "python",
   "name": "python3"
  },
  "language_info": {
   "codemirror_mode": {
    "name": "ipython",
    "version": 3
   },
   "file_extension": ".py",
   "mimetype": "text/x-python",
   "name": "python",
   "nbconvert_exporter": "python",
   "pygments_lexer": "ipython3",
   "version": "3.10.6"
  },
  "orig_nbformat": 4
 },
 "nbformat": 4,
 "nbformat_minor": 2
}
